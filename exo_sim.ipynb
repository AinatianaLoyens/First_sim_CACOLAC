{
 "cells": [
  {
   "cell_type": "markdown",
   "metadata": {},
   "source": [
    "# Simulations for prey-predator models with exogenous mortality source"
   ]
  },
  {
   "cell_type": "markdown",
   "metadata": {},
   "source": [
    "This notebook aims to be easily executable, by entring the parameters once for all, for the pulsed Schaefer model. If we want to see other conditions, we only need to change the parameters at the top of the notebook."
   ]
  },
  {
   "cell_type": "code",
   "execution_count": 1,
   "metadata": {},
   "outputs": [
    {
     "data": {
      "text/plain": [
       "<module 'exo' from '/run/netsop/u/home-sam/home/aloyens/Internship_CACOLAC/sim_models/First_sim_CACOLAC/exo.py'>"
      ]
     },
     "execution_count": 1,
     "metadata": {},
     "output_type": "execute_result"
    }
   ],
   "source": [
    "#Import librairies\n",
    "import numpy as np\n",
    "import matplotlib.pyplot as plt\n",
    "\n",
    "#Import the module and make it reload each time there is a change \n",
    "import importlib\n",
    "import exo\n",
    "importlib.reload(exo)"
   ]
  },
  {
   "cell_type": "code",
   "execution_count": 2,
   "metadata": {},
   "outputs": [],
   "source": [
    "#Set the parameters that will be used all along the code\n",
    "r = 0.5\n",
    "#K = 10 \n",
    "a = 3\n",
    "#c = 20\n",
    "m = 0.1\n",
    "gamma = 0.8\n",
    "#b = 5\n",
    "#q = 0.1\n",
    "\n",
    "E = 0.1\n",
    "T = 5\n",
    "\n",
    "t_0 = 0\n",
    "t_n = 50"
   ]
  },
  {
   "cell_type": "code",
   "execution_count": null,
   "metadata": {},
   "outputs": [],
   "source": [
    "#Other initial values but the periodic solution\n",
    "x0_a = 1 \n",
    "y0_a = 3\n",
    "x0y0_a = [x0_a, y0_a]\n",
    "\n",
    "x0_f = 1.5\n",
    "y0_f = 2\n",
    "x0y0_f = [x0_f, y0_f]\n",
    "\n",
    "x0_i = 2\n",
    "y0_i = 1\n",
    "x0y0_i = [x0_i, y0_i]"
   ]
  }
 ],
 "metadata": {
  "kernelspec": {
   "display_name": "sim",
   "language": "python",
   "name": "python3"
  },
  "language_info": {
   "codemirror_mode": {
    "name": "ipython",
    "version": 3
   },
   "file_extension": ".py",
   "mimetype": "text/x-python",
   "name": "python",
   "nbconvert_exporter": "python",
   "pygments_lexer": "ipython3",
   "version": "3.12.8"
  }
 },
 "nbformat": 4,
 "nbformat_minor": 2
}
