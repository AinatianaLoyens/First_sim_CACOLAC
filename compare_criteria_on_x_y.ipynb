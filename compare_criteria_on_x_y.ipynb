{
 "cells": [
  {
   "cell_type": "markdown",
   "metadata": {},
   "source": [
    "# Comparison of criteria between the impulsive and the continuous model with exogenous mortality on pests and predators"
   ]
  },
  {
   "cell_type": "markdown",
   "metadata": {},
   "source": [
    "This notebook as the same goal as ```compare_criteria_on_x.ipynb```. The difference is that there is also an exogenous mortality source on the predators $y$.  \n",
    "Also, this time, the integral of $x$ at periodic solution might not be calculable. We can simulate it numerically."
   ]
  },
  {
   "cell_type": "code",
   "execution_count": null,
   "metadata": {},
   "outputs": [],
   "source": [
    "#Import librairies\n",
    "import numpy as np\n",
    "import matplotlib.pyplot as plt\n",
    "\n",
    "#Import the module and make it reload each time there is a change \n",
    "import importlib\n",
    "import double_exo\n",
    "importlib.reload(double_exo)"
   ]
  },
  {
   "cell_type": "markdown",
   "metadata": {},
   "source": [
    "#### Reminder of the general model"
   ]
  },
  {
   "cell_type": "markdown",
   "metadata": {},
   "source": [
    "\\begin{cases}\n",
    "\\dot{x} = g(x)x - f(x,y)y\\\\ \n",
    "\\dot{y} = \\gamma f(x,y) y - m(x,y)y\\\\\n",
    "x(nT^{+}) = x(nT) - E_xh_x(x(nT))\\\\\n",
    "y(nT^{+}) = y(nT) - E_yh_y(y(nT))\\\\\n",
    "\\end{cases} "
   ]
  },
  {
   "cell_type": "code",
   "execution_count": null,
   "metadata": {},
   "outputs": [],
   "source": [
    "#Fixed parameters\n",
    "r = 0.5\n",
    "K = 10 \n",
    "a = 0.1\n",
    "m = 0.1\n",
    "gamma = 0.8\n",
    "\n",
    "E_x_inf = r - 0.1 # E_x when E_x < r\n",
    "E_x_sup = r + 0.1 # E_x when E_x > r\n",
    "E_y_inf = E_x_inf/2 # E_y when E_x < r\n",
    "E_y_sup = E_x_sup/2 # E_y when E_x > r\n",
    "\n",
    "T = 5\n",
    "\n",
    "t_0 = 0\n",
    "t_n = 100\n",
    "\n",
    "tt = 1 #just to not have a missing argument t when we solve models"
   ]
  }
 ],
 "metadata": {
  "language_info": {
   "name": "python"
  }
 },
 "nbformat": 4,
 "nbformat_minor": 2
}
