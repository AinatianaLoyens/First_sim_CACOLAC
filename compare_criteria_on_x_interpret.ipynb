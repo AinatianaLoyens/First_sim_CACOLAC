{
 "cells": [
  {
   "cell_type": "markdown",
   "metadata": {},
   "source": [
    "# Comparison of criteria between the impulsive and the continuous model with exogenous mortality on pests and interpretation"
   ]
  },
  {
   "cell_type": "markdown",
   "metadata": {},
   "source": [
    "This notebook compares the efficiency of two different models (continuous and impulsive) with exogenous mortality on pests $x$. Interpretations on the different plots are also given.   \n",
    "The main criteria of comparison is the time for $x$ to reach an $\\epsilon$ value starting from the same value. This time is called $t_{\\eta}$. We want to see how does it variate with respect to $T$ (the time period) and $t_{pulse}$ (the time of the first exogenous mortality event)."
   ]
  },
  {
   "cell_type": "code",
   "execution_count": null,
   "metadata": {},
   "outputs": [],
   "source": [
    "#Import librairies\n",
    "import numpy as np\n",
    "import matplotlib.pyplot as plt\n",
    "\n",
    "#Import the module and make it reload each time there is a change \n",
    "import importlib\n",
    "import double_exo\n",
    "importlib.reload(double_exo)"
   ]
  },
  {
   "cell_type": "markdown",
   "metadata": {},
   "source": [
    "### The models used in this code"
   ]
  },
  {
   "cell_type": "markdown",
   "metadata": {},
   "source": [
    "#### Continuous model"
   ]
  },
  {
   "cell_type": "markdown",
   "metadata": {},
   "source": [
    "\\begin{cases}\n",
    "\\dot{x} = [r(1-\\frac{x}{K})y- E_x]x- axy\\\\ \n",
    "\\dot{y} = \\gamma axy - my\\\\\n",
    "x(nT^{+}) = x(nT) - E_x \\times 0\\\\\n",
    "y(nT^{+}) = y(nT) - E_y \\times 0\\\\\n",
    "\\end{cases} "
   ]
  },
  {
   "cell_type": "markdown",
   "metadata": {},
   "source": [
    "#### Impulsive model"
   ]
  },
  {
   "cell_type": "markdown",
   "metadata": {},
   "source": [
    "\\begin{cases}\n",
    "    \\dot{x} = [r(1-\\frac{x}{K})y- E_x]x- axy\\\\ \n",
    "    \\dot{y} = \\gamma axy - my\\\\\n",
    "    x(nT^{+}) = x(nT) - (1 - e^{-E_xT})x(nT)\\\\\n",
    "    y(nT^{+}) = y(nT) - E_y \\times 0\n",
    "\\end{cases}"
   ]
  },
  {
   "cell_type": "markdown",
   "metadata": {},
   "source": [
    "Fixed parameters that will be used along the code. "
   ]
  },
  {
   "cell_type": "code",
   "execution_count": null,
   "metadata": {},
   "outputs": [],
   "source": [
    "r = 0.5\n",
    "K = 10 \n",
    "a = 0.1\n",
    "m = 0.1\n",
    "gamma = 0.8\n",
    "\n",
    "E_inf = r - 0.1 # E < r\n",
    "E_sup = r + 0.1 # E > r\n",
    "T = 5\n",
    "\n",
    "t_0 = 0\n",
    "t_n = 100\n",
    "\n",
    "tt = 1 #just to not have a missing argument t when we solve models"
   ]
  },
  {
   "cell_type": "markdown",
   "metadata": {},
   "source": [
    "# 1 Presence of pests $x$ only (one dimension)"
   ]
  },
  {
   "cell_type": "markdown",
   "metadata": {},
   "source": [
    "The models in one dimension (both the continuous and the impulsive) are given by the models in two dimensions with $y_0 = 0$."
   ]
  },
  {
   "cell_type": "markdown",
   "metadata": {},
   "source": [
    "The initial value is the same for bith model, which is the \"worst possible case\": $(x_0,y_0) = (K,0)$"
   ]
  },
  {
   "cell_type": "markdown",
   "metadata": {},
   "source": [
    "## 1.1 Plot the population"
   ]
  },
  {
   "cell_type": "markdown",
   "metadata": {},
   "source": [
    "The cell(s) of this section is (are) to visualize the dynamics of the population for the two models. It is possible to change the time of first impulsion $t_{pulse}$."
   ]
  },
  {
   "cell_type": "code",
   "execution_count": null,
   "metadata": {},
   "outputs": [],
   "source": [
    "double_exo.compare_cont_imp_proportional_mortality_on_x(\n",
    "    xyI0_imp= [K,0,0],\n",
    "    xyI0_cont= [K,0,0],\n",
    "    t=tt,\n",
    "    gamma=gamma,\n",
    "    E_c=E_sup,\n",
    "    T=T,\n",
    "    func_g=double_exo.logistic_model_x,\n",
    "    kwargs_g={'r':r, 'K':K},\n",
    "    func_f=double_exo.multiply_x,\n",
    "    kwargs_f={'z': a}, \n",
    "    func_m=double_exo.identity,\n",
    "    kwargs_m={'z': m},\n",
    "    t_0=t_0,\n",
    "    t_n=t_n,\n",
    "    t_pulse=T,\n",
    "    eps=0.01,\n",
    "    plot_population=True\n",
    ")"
   ]
  },
  {
   "cell_type": "code",
   "execution_count": null,
   "metadata": {},
   "outputs": [],
   "source": [
    "double_exo.compare_cont_imp_proportional_mortality_on_x(\n",
    "    xyI0_imp= [K,0,0],\n",
    "    xyI0_cont= [K,0,0],\n",
    "    t=tt,\n",
    "    gamma=gamma,\n",
    "    E_c=E_sup,\n",
    "    T=T,\n",
    "    func_g=double_exo.logistic_model_x,\n",
    "    kwargs_g={'r':r, 'K':K},\n",
    "    func_f=double_exo.multiply_x,\n",
    "    kwargs_f={'z': a}, \n",
    "    func_m=double_exo.identity,\n",
    "    kwargs_m={'z': m},\n",
    "    t_0=t_0,\n",
    "    t_n=t_n,\n",
    "    t_pulse=T,\n",
    "    eps=0.01,\n",
    "    plot_population=True\n",
    ")"
   ]
  },
  {
   "cell_type": "markdown",
   "metadata": {},
   "source": [
    "## 1.2 Comparison graph : $t_{\\eta}$ with respect to $\\epsilon$"
   ]
  },
  {
   "cell_type": "markdown",
   "metadata": {},
   "source": [
    "The parameter $t_{pulse}$ can be changed"
   ]
  },
  {
   "cell_type": "code",
   "execution_count": null,
   "metadata": {},
   "outputs": [],
   "source": [
    "double_exo.plot_t_eta_of_eps_prop_mortality_on_x(\n",
    "    xyI0_imp= [K,0,0],\n",
    "    xyI0_cont= [K,0,0],\n",
    "    t=tt,\n",
    "    gamma=gamma,\n",
    "    E_c=E_sup,\n",
    "    T=T,\n",
    "    func_g=double_exo.logistic_model_x,\n",
    "    kwargs_g={'r':r, 'K':K},\n",
    "    func_f=double_exo.multiply_x,\n",
    "    kwargs_f={'z': a}, \n",
    "    func_m=double_exo.identity,\n",
    "    kwargs_m={'z': m},\n",
    "    t_0=t_0,\n",
    "    t_n=t_n,\n",
    "    t_pulse=T,\n",
    "    eps_start=0.01,\n",
    "    eps_stop=5\n",
    ")"
   ]
  },
  {
   "cell_type": "code",
   "execution_count": null,
   "metadata": {},
   "outputs": [],
   "source": [
    "double_exo.plot_t_eta_of_eps_prop_mortality_on_x(\n",
    "    xyI0_imp= [K,0,0],\n",
    "    xyI0_cont= [K,0,0],\n",
    "    t=tt,\n",
    "    gamma=gamma,\n",
    "    E_c=E_sup,\n",
    "    T=T,\n",
    "    func_g=double_exo.logistic_model_x,\n",
    "    kwargs_g={'r':r, 'K':K},\n",
    "    func_f=double_exo.multiply_x,\n",
    "    kwargs_f={'z': a}, \n",
    "    func_m=double_exo.identity,\n",
    "    kwargs_m={'z': m},\n",
    "    t_0=t_0,\n",
    "    t_n=t_n,\n",
    "    t_pulse=0,\n",
    "    eps_start=0.01,\n",
    "    eps_stop=5\n",
    ")"
   ]
  },
  {
   "cell_type": "markdown",
   "metadata": {},
   "source": [
    "(To be reformulated better):  \n",
    "In the absence of predators and at $x_0 = K$, the time to reach epsilon is just delayed by $t_pulse$.  \n",
    "The \"jumps\" represent the\"jumps\" after a period. The constant part (le plateau) is always a multiple of $T$ because the population size decrease drastically at pulses."
   ]
  },
  {
   "cell_type": "markdown",
   "metadata": {},
   "source": [
    "# 2 Presence of pests $x$ and $y$ (two dimensions)"
   ]
  },
  {
   "cell_type": "markdown",
   "metadata": {},
   "source": [
    "We still want to model the worst possible scenario. The value of $x_0$ for this worst scenario is still $K$.  \n",
    "The value of $y_0$ is very small to also make the predators adapt."
   ]
  },
  {
   "cell_type": "code",
   "execution_count": null,
   "metadata": {},
   "outputs": [],
   "source": [
    "#Initial value\n",
    "xyI0 = [K, 0.1, 0]"
   ]
  },
  {
   "cell_type": "markdown",
   "metadata": {},
   "source": [
    "## 2.1 Plot the population"
   ]
  },
  {
   "cell_type": "markdown",
   "metadata": {},
   "source": [
    "The cell(s) of this section is (are) to visualize the dynamics of the population for the two models. It is possible to change the time of first impulsion $t_{pulse}$."
   ]
  },
  {
   "cell_type": "code",
   "execution_count": null,
   "metadata": {},
   "outputs": [],
   "source": [
    "double_exo.compare_cont_imp_proportional_mortality_on_x(\n",
    "    xyI0_imp = xyI0,\n",
    "    xyI0_cont = xyI0,\n",
    "    t=tt,\n",
    "    gamma=gamma,\n",
    "    E_c=E_sup,\n",
    "    T=T,\n",
    "    func_g=double_exo.logistic_model_x,\n",
    "    kwargs_g={'r':r, 'K':K},\n",
    "    func_f=double_exo.multiply_x,\n",
    "    kwargs_f={'z': a}, \n",
    "    func_m=double_exo.identity,\n",
    "    kwargs_m={'z': m},\n",
    "    t_0=t_0,\n",
    "    t_n=t_n,\n",
    "    t_pulse=T,\n",
    "    eps=0.01,\n",
    "    plot_population=True\n",
    ")"
   ]
  },
  {
   "cell_type": "code",
   "execution_count": null,
   "metadata": {},
   "outputs": [],
   "source": [
    "double_exo.compare_cont_imp_proportional_mortality_on_x(\n",
    "    xyI0_imp = xyI0,\n",
    "    xyI0_cont = xyI0,\n",
    "    t=tt,\n",
    "    gamma=gamma,\n",
    "    E_c=E_sup,\n",
    "    T=T,\n",
    "    func_g=double_exo.logistic_model_x,\n",
    "    kwargs_g={'r':r, 'K':K},\n",
    "    func_f=double_exo.multiply_x,\n",
    "    kwargs_f={'z': a}, \n",
    "    func_m=double_exo.identity,\n",
    "    kwargs_m={'z': m},\n",
    "    t_0=t_0,\n",
    "    t_n=t_n,\n",
    "    t_pulse=0,\n",
    "    eps=0.01,\n",
    "    plot_population=True\n",
    ")"
   ]
  },
  {
   "cell_type": "markdown",
   "metadata": {},
   "source": [
    "By comparing the two extreme cases for the impulsive model, it seems that the pests are eradicated faster when the time of first impulsion is $T$ than $0$. In parallel, at this case, the dynamic of predators is higher. The predators have enough preys before the first impulsion to grow."
   ]
  },
  {
   "cell_type": "markdown",
   "metadata": {},
   "source": [
    "## 2.2 Comparison graph "
   ]
  },
  {
   "cell_type": "markdown",
   "metadata": {},
   "source": [
    "### 2.2.1 $t_{\\eta}$ with respect to $\\epsilon$"
   ]
  },
  {
   "cell_type": "code",
   "execution_count": null,
   "metadata": {},
   "outputs": [],
   "source": [
    "double_exo.plot_t_eta_of_eps_prop_mortality_on_x(\n",
    "    xyI0_imp= xyI0,\n",
    "    xyI0_cont= xyI0, #Same initial value\n",
    "    t=tt,\n",
    "    gamma=gamma,\n",
    "    E_c=E_sup,\n",
    "    T=T,\n",
    "    func_g=double_exo.logistic_model_x,\n",
    "    kwargs_g={'r':r, 'K':K},\n",
    "    func_f=double_exo.multiply_x,\n",
    "    kwargs_f={'z': a}, \n",
    "    func_m=double_exo.identity,\n",
    "    kwargs_m={'z': m},\n",
    "    t_0=t_0,\n",
    "    t_n=t_n,\n",
    "    t_pulse=T,\n",
    "    eps_start=0.01,\n",
    "    eps_stop=5\n",
    ")"
   ]
  },
  {
   "cell_type": "code",
   "execution_count": null,
   "metadata": {},
   "outputs": [],
   "source": [
    "double_exo.plot_t_eta_of_eps_prop_mortality_on_x(\n",
    "    xyI0_imp= xyI0,\n",
    "    xyI0_cont= xyI0, #Same initial value\n",
    "    t=tt,\n",
    "    gamma=gamma,\n",
    "    E_c=E_sup,\n",
    "    T=T,\n",
    "    func_g=double_exo.logistic_model_x,\n",
    "    kwargs_g={'r':r, 'K':K},\n",
    "    func_f=double_exo.multiply_x,\n",
    "    kwargs_f={'z': a}, \n",
    "    func_m=double_exo.identity,\n",
    "    kwargs_m={'z': m},\n",
    "    t_0=t_0,\n",
    "    t_n=t_n,\n",
    "    t_pulse=0,\n",
    "    eps_start=0.01,\n",
    "    eps_stop=5\n",
    ")"
   ]
  },
  {
   "cell_type": "markdown",
   "metadata": {},
   "source": [
    "Interpretation:  \n",
    "No more just a delay because there is an intrinsic dynamic due to predators that doesn't make the prey size stay at $K$.  \n",
    "The minimum $t_{\\eta}$ is $t_pulse$ because the intrinsic dynamic doesn't have the time to reach epsilon.  \n",
    "Interpret which method is better.  \n",
    "Same interpretation about the constant part that are multiple of $T$."
   ]
  },
  {
   "cell_type": "markdown",
   "metadata": {},
   "source": [
    "### 2.2.2 Difference between impulsive $t_{\\eta}$ and continuous $t_{\\eta}$ with respect to $t_{pulse}$"
   ]
  },
  {
   "cell_type": "code",
   "execution_count": null,
   "metadata": {},
   "outputs": [],
   "source": [
    "double_exo.plot_diff_t_eta_of_t_pulse_prop_mortality_on_x(\n",
    "    xyI0_cont=xyI0,\n",
    "    xyI0_imp=xyI0,\n",
    "    t=tt,\n",
    "    gamma=gamma,\n",
    "    E_c=E_sup,\n",
    "    T=T,\n",
    "    func_g=double_exo.logistic_model_x,\n",
    "    kwargs_g={'r':r, 'K':K},\n",
    "    func_f=double_exo.multiply_x,\n",
    "    kwargs_f={'z': a}, \n",
    "    func_m=double_exo.identity,\n",
    "    kwargs_m={'z': m},\n",
    "    t_0=t_0,\n",
    "    t_n=t_n,\n",
    "    eps=0.01\n",
    ")"
   ]
  },
  {
   "cell_type": "markdown",
   "metadata": {},
   "source": [
    "### 2.2.3 Difference between impulsive $t_{\\eta}$ and continuous $t_{\\eta}$ with respect to $T$ and $\\frac{t_{pulse}}{T}$"
   ]
  },
  {
   "cell_type": "code",
   "execution_count": null,
   "metadata": {},
   "outputs": [],
   "source": [
    "double_exo.plot_t_eta_contour_from_t_pulse_T_prop_mortality_on_x(\n",
    "    xyI0_imp=xyI0,\n",
    "    xyI0_cont=xyI0,\n",
    "    t=tt,\n",
    "    gamma=gamma,\n",
    "    E_c=E_sup,\n",
    "    func_g=double_exo.logistic_model_x,\n",
    "    kwargs_g={'r':r, 'K':K},\n",
    "    func_f=double_exo.multiply_x,\n",
    "    kwargs_f={'z': a}, \n",
    "    func_m=double_exo.identity,\n",
    "    kwargs_m={'z': m},\n",
    "    t_0=t_0,\n",
    "    t_n=t_n,\n",
    "    eps=0.01,\n",
    "    T_start=1,\n",
    "    T_stop=50,\n",
    "    T_num=100,\n",
    "    t_pulse_over_T_array_num= 101\n",
    ")"
   ]
  },
  {
   "cell_type": "markdown",
   "metadata": {},
   "source": [
    "Many and many interpretation"
   ]
  },
  {
   "cell_type": "markdown",
   "metadata": {},
   "source": [
    "### 2.2.3 Difference between impulsive $t_{\\eta}$ and continuous $t_{\\eta}$ with respect to $T$ and $t_{pulse}$"
   ]
  },
  {
   "cell_type": "markdown",
   "metadata": {},
   "source": []
  }
 ],
 "metadata": {
  "language_info": {
   "name": "python"
  }
 },
 "nbformat": 4,
 "nbformat_minor": 2
}
