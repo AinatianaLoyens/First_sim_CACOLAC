{
 "cells": [
  {
   "cell_type": "markdown",
   "metadata": {},
   "source": [
    "# Simulations of the pulsed Schaefer model"
   ]
  },
  {
   "cell_type": "markdown",
   "metadata": {},
   "source": [
    "This notebook aims to be easily executable, by entring the parameters once for all, for the pulsed Schaefer model. If we want to see other conditions, we only need to change the parameters at the top of the notebook."
   ]
  },
  {
   "cell_type": "code",
   "execution_count": 4,
   "metadata": {},
   "outputs": [],
   "source": [
    "#Import module\n",
    "from schaefer import *"
   ]
  },
  {
   "cell_type": "code",
   "execution_count": 8,
   "metadata": {},
   "outputs": [],
   "source": [
    "#Set the parameters that will be used all along the code\n",
    "r = 0.5\n",
    "K = 10 \n",
    "\n",
    "E = 0.1\n",
    "T = 5\n",
    "\n",
    "t_0 = 0\n",
    "t_n = 100"
   ]
  },
  {
   "cell_type": "markdown",
   "metadata": {},
   "source": [
    "## Initial values"
   ]
  },
  {
   "cell_type": "markdown",
   "metadata": {},
   "source": [
    "I discovered that to be biologically realistic, we need to have $r>E$"
   ]
  },
  {
   "cell_type": "markdown",
   "metadata": {},
   "source": [
    "Here is the proof:  \n",
    "The initial value of the periodic solution is\n",
    "\\begin{equation*}  \n",
    "x^{*}(kT^{+}) = \\frac{e^{-ET}Ke^{rT} - K}{e^{rT} - 1} \n",
    "\\end{equation*}   \n",
    "To be realistic, the numerator should be positive, so:  \n",
    "\\begin{equation*}\n",
    "e^{-ET}Ke^{rT} > K\n",
    "\\end{equation*}\n",
    "\n",
    "\\begin{equation*}\n",
    "e^{-ET}e^{rT} > 1\n",
    "\\end{equation*}\n",
    "\n",
    "\\begin{equation*}\n",
    "e^{(r-E)T} > 1\n",
    "\\end{equation*}\n",
    "\n",
    "\\begin{equation*}\n",
    "r > E\n",
    "\\end{equation*}\n"
   ]
  },
  {
   "cell_type": "code",
   "execution_count": 9,
   "metadata": {},
   "outputs": [
    {
     "name": "stdout",
     "output_type": "stream",
     "text": [
      "5.71344471222833\n"
     ]
    }
   ],
   "source": [
    "#Initial value of the periodic solution\n",
    "x_star = ( np.exp(-E*T) * K * np.exp(r*T)  -  K ) / ( np.exp(r*T) - 1 ) \n",
    "print(x_star)"
   ]
  },
  {
   "cell_type": "code",
   "execution_count": 11,
   "metadata": {},
   "outputs": [],
   "source": [
    "#Other initial values but the periodic solution\n",
    "x0_a = 4\n",
    "x0_b = 3\n",
    "x0_c = 7\n",
    "x0_d = 8\n"
   ]
  },
  {
   "cell_type": "markdown",
   "metadata": {},
   "source": [
    "## Solve ODE"
   ]
  },
  {
   "cell_type": "code",
   "execution_count": 13,
   "metadata": {},
   "outputs": [],
   "source": [
    "sol_p = solve_schaefer_model(x_star, r, K, E, T, t_0, t_n)\n",
    "x_p = sol_p[1]\n",
    "\n",
    "\n",
    "sol_a = solve_schaefer_model(x0_a, r, K, E, T, t_0, t_n)\n",
    "x_a = sol_a[1]\n",
    "\n",
    "sol_b = solve_schaefer_model(x0_b, r, K, E, T, t_0, t_n)\n",
    "x_b = sol_b[1]\n",
    "\n",
    "sol_c = solve_schaefer_model(x0_c, r, K, E, T, t_0, t_n)\n",
    "x_c = sol_c[1]\n",
    "\n",
    "sol_d = solve_schaefer_model(x0_d, r, K, E, T, t_0, t_n)\n",
    "x_d = sol_d[1]"
   ]
  },
  {
   "cell_type": "markdown",
   "metadata": {},
   "source": [
    "## Plot results"
   ]
  },
  {
   "cell_type": "code",
   "execution_count": null,
   "metadata": {},
   "outputs": [],
   "source": [
    "#time points\n",
    "t = x_p[0]\n",
    "\n",
    "plt.plot(t, x_p, color = (1,0,1), label = 'x_p(t)')\n",
    "plt.plot(t, x_a, color = (0,0,0.7), linestyle='--', label = f'x with {x0_a} as initial value')\n",
    "plt.plot(t, x_b, color = (0,0,0.4), linestyle='--', label = f'x with {x0_b} as initial value')\n",
    "plt.plot(t, x_c, color = (0.7,0,0), linestyle='--', label = f'x with {x0_c} as initial value')\n",
    "plt.plot(t, x_d, color = (0.4,0,0), linestyle='--', label = f'x with {x0_d} as initial value')\n",
    "plt.xlabel('time')\n",
    "plt.ylabel('Population size')\n",
    "plt.title('Population size with pulsed harvesting')\n",
    "plt.suptitle(f'{K=}, {r=}, {E=}, {T=}')\n",
    "plt.legend(loc= 'upper left', bbox_to_anchor=(1,1))\n",
    "plt.grid()\n",
    "plt.show()"
   ]
  }
 ],
 "metadata": {
  "kernelspec": {
   "display_name": "sim",
   "language": "python",
   "name": "python3"
  },
  "language_info": {
   "codemirror_mode": {
    "name": "ipython",
    "version": 3
   },
   "file_extension": ".py",
   "mimetype": "text/x-python",
   "name": "python",
   "nbconvert_exporter": "python",
   "pygments_lexer": "ipython3",
   "version": "3.12.8"
  }
 },
 "nbformat": 4,
 "nbformat_minor": 2
}
